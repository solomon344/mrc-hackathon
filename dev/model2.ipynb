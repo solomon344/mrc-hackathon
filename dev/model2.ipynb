{
 "cells": [
  {
   "cell_type": "code",
   "execution_count": null,
   "id": "b66cf386",
   "metadata": {},
   "outputs": [],
   "source": [
    "import pandas as pd\n",
    "import matplotlib.pyplot as plt\n",
    "%matplotlib inline"
   ]
  },
  {
   "cell_type": "code",
   "execution_count": null,
   "metadata": {},
   "outputs": [],
   "source": [
    "df = pd.read_csv('/Users/mjallow/mrc-hackathon/dev/data/meningitis_data.csv')\n",
    "df.head()\n",
    "\n",
    "ext_df = pd.read_csv('/Users/mjallow/mrc-hackathon/dev/data/ext_meningitis_data_cleaned.csv')\n",
    "df = pd.concat([df, ext_df], ignore_index=True)\n",
    "df.head()"
   ]
  },
  {
   "cell_type": "code",
   "execution_count": null,
   "metadata": {},
   "outputs": [],
   "source": [
    "selected_columns = [\n",
    "    'age',                      # Patient age\n",
    "    'sexofthepatient',          # Gender\n",
    "    'whitecellcount',           # CSF WBC count\n",
    "    'csfproteinresult',         # CSF protein level\n",
    "    'csfglucoseresult',         # CSF glucose level\n",
    "    'csf_gram_resul',           # Gram stain result\n",
    "    'csfcultureresults',        # CSF culture result\n",
    "    'presenceofseizure',        # Seizure presence\n",
    "    'neckstiffness',            # Neck stiffness\n",
    "    'historyoffever',           # Fever history\n",
    "    'alteredconsciousness',     # Consciousness level\n",
    "    'bulgingfontanel',          # Fontanel bulging (infants)\n",
    "    'mening_received',          # Meningitis vaccine received\n",
    "    'hibvaccine',               # Hib vaccine received\n",
    "    'pneumoduringcampaign',     # Pneumococcal vaccine during campaign\n",
    "    'target'                    # Label: bacterial meningitis (1 = yes, 0 = no)\n",
    "]\n",
    "\n",
    "df = df[selected_columns]\n",
    "df.head()"
   ]
  },
  {
   "cell_type": "code",
   "execution_count": null,
   "metadata": {},
   "outputs": [],
   "source": [
    "df['age'].fillna(df['age'].mean(), inplace=True)"
   ]
  },
  {
   "cell_type": "code",
   "execution_count": null,
   "id": "15d2a434",
   "metadata": {},
   "outputs": [],
   "source": [
    "df['sexofthepatient'].fillna('M', inplace=True)"
   ]
  },
  {
   "cell_type": "code",
   "execution_count": null,
   "id": "0e885a94",
   "metadata": {},
   "outputs": [],
   "source": [
    "df['whitecellcount'].fillna(df['whitecellcount'].mean(), inplace=True)"
   ]
  },
  {
   "cell_type": "code",
   "execution_count": null,
   "id": "4aa92a9e",
   "metadata": {},
   "outputs": [],
   "source": [
    "df['csfproteinresult'].fillna(df['csfproteinresult'].mean(), inplace=True)"
   ]
  },
  {
   "cell_type": "code",
   "execution_count": null,
   "id": "85a75ac3",
   "metadata": {},
   "outputs": [],
   "source": [
    "df['csfglucoseresult'].fillna(df['csfglucoseresult'].mean(), inplace=True)"
   ]
  },
  {
   "cell_type": "code",
   "execution_count": null,
   "id": "ac64a88d",
   "metadata": {},
   "outputs": [],
   "source": [
    "df['csf_gram_resul'].fillna(df['csf_gram_resul'].mode(), inplace=True)"
   ]
  },
  {
   "cell_type": "code",
   "execution_count": null,
   "id": "3686ef4f",
   "metadata": {},
   "outputs": [],
   "source": [
    "df.head()"
   ]
  },
  {
   "cell_type": "code",
   "execution_count": null,
   "id": "a18ad6c5",
   "metadata": {},
   "outputs": [],
   "source": [
    "df['csfcultureresults'].fillna(df['csfcultureresults'].mean(), inplace=True)"
   ]
  },
  {
   "cell_type": "code",
   "execution_count": null,
   "id": "426391ea",
   "metadata": {},
   "outputs": [],
   "source": [
    "df['presenceofseizure'].fillna(df['presenceofseizure'].mean(), inplace=True)"
   ]
  },
  {
   "cell_type": "code",
   "execution_count": null,
   "id": "187340d2",
   "metadata": {},
   "outputs": [],
   "source": [
    "df['neckstiffness'].fillna(df['neckstiffness'].mean(), inplace=True)"
   ]
  },
  {
   "cell_type": "code",
   "execution_count": null,
   "metadata": {},
   "outputs": [],
   "source": [
    "df['historyoffever'].fillna(df['historyoffever'].mean(), inplace=True)"
   ]
  },
  {
   "cell_type": "code",
   "execution_count": null,
   "id": "0d034871",
   "metadata": {},
   "outputs": [],
   "source": [
    "df['alteredconsciousness'].fillna(df['alteredconsciousness'].mean(), inplace=True)"
   ]
  },
  {
   "cell_type": "code",
   "execution_count": null,
   "id": "6ff054ba",
   "metadata": {},
   "outputs": [],
   "source": [
    "df['bulgingfontanel'].fillna(df['bulgingfontanel'].mean(), inplace=True)"
   ]
  },
  {
   "cell_type": "code",
   "execution_count": null,
   "id": "258daf71",
   "metadata": {},
   "outputs": [],
   "source": [
    "df['mening_received'].fillna(df['mening_received'].mean(), inplace=True)"
   ]
  },
  {
   "cell_type": "code",
   "execution_count": null,
   "id": "2eacefbd",
   "metadata": {},
   "outputs": [],
   "source": [
    "df.head()"
   ]
  },
  {
   "cell_type": "code",
   "execution_count": null,
   "id": "4cd0aead",
   "metadata": {},
   "outputs": [],
   "source": [
    "df['hibvaccine'].fillna(df['hibvaccine'].mean(), inplace=True)"
   ]
  },
  {
   "cell_type": "code",
   "execution_count": null,
   "id": "e852077d",
   "metadata": {},
   "outputs": [],
   "source": [
    "df['pneumoduringcampaign'].fillna(df['pneumoduringcampaign'].mean(), inplace=True)"
   ]
  },
  {
   "cell_type": "code",
   "execution_count": null,
   "id": "4a498d1f",
   "metadata": {},
   "outputs": [],
   "source": [
    "df['sexofthepatient'] = df['sexofthepatient'].map({'F': 0, 'M': 1})"
   ]
  },
  {
   "cell_type": "code",
   "execution_count": null,
   "id": "bebe76ad",
   "metadata": {},
   "outputs": [],
   "source": [
    "df['target'].isna().sum()"
   ]
  },
  {
   "cell_type": "code",
   "execution_count": null,
   "id": "17744860",
   "metadata": {},
   "outputs": [],
   "source": [
    "X = df.drop(columns=['target'])\n",
    "y = df['target']  "
   ]
  },
  {
   "cell_type": "code",
   "execution_count": null,
   "id": "a5eb6e8f",
   "metadata": {},
   "outputs": [],
   "source": [
    "import xgboost as xgb\n",
    "from sklearn.model_selection import train_test_split\n",
    "from sklearn.metrics import accuracy_score\n",
    "\n",
    "X_train, X_test, y_train, y_test = train_test_split(X, y, test_size=0.2, random_state=42)\n",
    "\n",
    "# Train the model\n",
    "model = xgb.XGBClassifier()\n",
    "model.fit(X_train, y_train)\n",
    "\n",
    "# Predict and evaluate\n",
    "y_pred = model.predict(X_test)\n",
    "print(\"Accuracy:\", accuracy_score(y_test, y_pred))"
   ]
  }
 ],
 "metadata": {
  "kernelspec": {
   "display_name": "menigitis-ai",
   "language": "python",
   "name": "python3"
  },
  "language_info": {
   "codemirror_mode": {
    "name": "ipython",
    "version": 3
   },
   "file_extension": ".py",
   "mimetype": "text/x-python",
   "name": "python",
   "nbconvert_exporter": "python",
   "pygments_lexer": "ipython3",
   "version": "3.12.1"
  }
 },
 "nbformat": 4,
 "nbformat_minor": 5
}
