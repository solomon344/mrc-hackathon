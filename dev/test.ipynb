{
 "cells": [
  {
   "cell_type": "code",
   "execution_count": null,
   "id": "4b507471",
   "metadata": {},
   "outputs": [],
   "source": [
    "import pandas as pd\n",
    "import matplotlib.pyplot as plt\n",
    "%matplotlib inline"
   ]
  },
  {
   "cell_type": "code",
   "execution_count": null,
   "id": "abc01dcb",
   "metadata": {},
   "outputs": [],
   "source": [
    "df = pd.read_csv('data/meningitis_data.csv')\n",
    "df.head()"
   ]
  },
  {
   "cell_type": "code",
   "execution_count": null,
   "id": "60ddfc36",
   "metadata": {},
   "outputs": [],
   "source": [
    "selected_columns = [\n",
    "    'age',                      # Patient age\n",
    "    'sexofthepatient',          # Gender\n",
    "    'whitecellcount',           # CSF WBC count\n",
    "    'csfproteinresult',         # CSF protein level\n",
    "    'csfglucoseresult',         # CSF glucose level\n",
    "    'csf_gram_resul',           # Gram stain result\n",
    "    'csfcultureresults',        # CSF culture result\n",
    "    'presenceofseizure',        # Seizure presence\n",
    "    'neckstiffness',            # Neck stiffness\n",
    "    'historyoffever',           # Fever history\n",
    "    'alteredconsciousness',     # Consciousness level\n",
    "    'bulgingfontanel',          # Fontanel bulging (infants)\n",
    "    'mening_received',          # Meningitis vaccine received\n",
    "    'hibvaccine',               # Hib vaccine received\n",
    "    'pneumoduringcampaign',     # Pneumococcal vaccine during campaign\n",
    "    'target'                    # Label: bacterial meningitis (1 = yes, 0 = no)\n",
    "]\n",
    "\n",
    "df = df[selected_columns]\n",
    "df.head()"
   ]
  },
  {
   "cell_type": "code",
   "execution_count": null,
   "id": "8b709790",
   "metadata": {},
   "outputs": [],
   "source": [
    "df.shape"
   ]
  },
  {
   "cell_type": "code",
   "execution_count": null,
   "id": "c48f2165",
   "metadata": {},
   "outputs": [],
   "source": [
    "df['age'].fillna(df['age'].mean(), inplace=True)"
   ]
  },
  {
   "cell_type": "code",
   "execution_count": null,
   "id": "020c50a3",
   "metadata": {},
   "outputs": [],
   "source": [
    "df['sexofthepatient'].fillna('M', inplace=True)"
   ]
  },
  {
   "cell_type": "code",
   "execution_count": null,
   "id": "49700984",
   "metadata": {},
   "outputs": [],
   "source": [
    "df['whitecellcount'].fillna(df['whitecellcount'].mean(), inplace=True)"
   ]
  },
  {
   "cell_type": "code",
   "execution_count": null,
   "id": "43cacd85",
   "metadata": {},
   "outputs": [],
   "source": [
    "df['csfproteinresult'].fillna(df['csfproteinresult'].mean(), inplace=True)"
   ]
  },
  {
   "cell_type": "code",
   "execution_count": null,
   "id": "1f2b44d2",
   "metadata": {},
   "outputs": [],
   "source": [
    "df['csfglucoseresult'].fillna(df['csfglucoseresult'].mean(), inplace=True)"
   ]
  },
  {
   "cell_type": "code",
   "execution_count": null,
   "id": "07277181",
   "metadata": {},
   "outputs": [],
   "source": [
    "df['csf_gram_resul'].fillna(df['csf_gram_resul'].mode(), inplace=True)"
   ]
  },
  {
   "cell_type": "code",
   "execution_count": null,
   "id": "16548644",
   "metadata": {},
   "outputs": [],
   "source": [
    "df.head()"
   ]
  },
  {
   "cell_type": "code",
   "execution_count": null,
   "id": "aabe9243",
   "metadata": {},
   "outputs": [],
   "source": [
    "df['csfcultureresults'].fillna(df['csfcultureresults'].mean(), inplace=True)"
   ]
  },
  {
   "cell_type": "code",
   "execution_count": null,
   "id": "fdce0c1a",
   "metadata": {},
   "outputs": [],
   "source": [
    "df['presenceofseizure'].fillna(df['presenceofseizure'].mean(), inplace=True)"
   ]
  },
  {
   "cell_type": "code",
   "execution_count": null,
   "id": "9aaea4f4",
   "metadata": {},
   "outputs": [],
   "source": [
    "df['neckstiffness'].fillna(df['neckstiffness'].mean(), inplace=True)"
   ]
  },
  {
   "cell_type": "code",
   "execution_count": null,
   "id": "3d47abc5",
   "metadata": {},
   "outputs": [],
   "source": [
    "df['historyoffever'].fillna(df['historyoffever'].mean(), inplace=True)"
   ]
  },
  {
   "cell_type": "code",
   "execution_count": null,
   "id": "4de6e76e",
   "metadata": {},
   "outputs": [],
   "source": [
    "df['alteredconsciousness'].fillna(df['alteredconsciousness'].mean(), inplace=True)"
   ]
  },
  {
   "cell_type": "code",
   "execution_count": null,
   "id": "258f9ea0",
   "metadata": {},
   "outputs": [],
   "source": [
    "df['bulgingfontanel'].fillna(df['bulgingfontanel'].mean(), inplace=True)"
   ]
  },
  {
   "cell_type": "code",
   "execution_count": null,
   "id": "92a4097c",
   "metadata": {},
   "outputs": [],
   "source": [
    "df['mening_received'].fillna(df['mening_received'].mean(), inplace=True)"
   ]
  },
  {
   "cell_type": "code",
   "execution_count": null,
   "id": "4f72e1f5",
   "metadata": {},
   "outputs": [],
   "source": [
    "df.head()"
   ]
  },
  {
   "cell_type": "code",
   "execution_count": null,
   "id": "bb83f35e",
   "metadata": {},
   "outputs": [],
   "source": [
    "df['hibvaccine'].fillna(df['hibvaccine'].mean(), inplace=True)"
   ]
  },
  {
   "cell_type": "code",
   "execution_count": null,
   "id": "a499062e",
   "metadata": {},
   "outputs": [],
   "source": [
    "df['pneumoduringcampaign'].fillna(df['pneumoduringcampaign'].mean(), inplace=True)"
   ]
  },
  {
   "cell_type": "code",
   "execution_count": null,
   "id": "32611097",
   "metadata": {},
   "outputs": [],
   "source": [
    "df['sexofthepatient'] = df['sexofthepatient'].map({'F': 0, 'M': 1})"
   ]
  },
  {
   "cell_type": "code",
   "execution_count": null,
   "id": "33c0edab",
   "metadata": {},
   "outputs": [],
   "source": [
    "df['target'].isna().sum()"
   ]
  },
  {
   "cell_type": "code",
   "execution_count": null,
   "id": "f9941e80",
   "metadata": {},
   "outputs": [],
   "source": [
    "from sklearn.model_selection import train_test_split"
   ]
  },
  {
   "cell_type": "code",
   "execution_count": null,
   "id": "5ca5cf88",
   "metadata": {},
   "outputs": [],
   "source": [
    "X = df.drop(columns=['target'])\n",
    "y = df['target']  "
   ]
  },
  {
   "cell_type": "code",
   "execution_count": null,
   "id": "fc34a5a3",
   "metadata": {},
   "outputs": [],
   "source": [
    "X_train, X_test, y_train, y_test = train_test_split(X, y, test_size=0.2, random_state=42)\n"
   ]
  },
  {
   "cell_type": "code",
   "execution_count": null,
   "id": "b9b0b2d1",
   "metadata": {},
   "outputs": [],
   "source": [
    "from sklearn.ensemble import RandomForestClassifier\n",
    "\n",
    "model = RandomForestClassifier(class_weight='balanced')\n",
    "model.fit(X_train, y_train)\n"
   ]
  },
  {
   "cell_type": "code",
   "execution_count": null,
   "id": "367737c1",
   "metadata": {},
   "outputs": [],
   "source": [
    "from sklearn.metrics import classification_report\n",
    "y_pred = model.predict(X_test)\n",
    "print(classification_report(y_test, y_pred))"
   ]
  },
  {
   "cell_type": "code",
   "execution_count": null,
   "id": "e2bb6d46",
   "metadata": {},
   "outputs": [],
   "source": [
    "feature_importance = pd.Series(model.feature_importances_, index=X.columns)\n",
    "feature_importance.nlargest(10).plot(kind='barh')\n",
    "plt.title(\"Top 10 Feature Importances\")\n",
    "plt.show()\n"
   ]
  },
  {
   "cell_type": "code",
   "execution_count": null,
   "id": "cf339ced",
   "metadata": {},
   "outputs": [],
   "source": [
    "# import joblib\n",
    "# joblib.dump(model, 'meningitis_model.pkl')"
   ]
  },
  {
   "cell_type": "code",
   "execution_count": null,
   "id": "c72eb9f1",
   "metadata": {},
   "outputs": [],
   "source": [
    "# df.to_csv('meningitis_data_cleaned.csv', index=False)\n",
    "# from sklearn.model_selection import GridSearchCV\n",
    "\n",
    "# param_grid = {\n",
    "#     'n_estimators': [100, 200],\n",
    "#     'max_depth': [None, 10, 20],\n",
    "#     'min_samples_split': [2, 5],\n",
    "#     'min_samples_leaf': [1, 2],\n",
    "#     'class_weight': ['balanced']\n",
    "# }\n",
    "\n",
    "# grid = GridSearchCV(RandomForestClassifier(), param_grid, cv=5, n_jobs=-1)\n",
    "# grid.fit(X_train, y_train)\n",
    "\n",
    "# print(\"Best Parameters:\", grid.best_params_)\n",
    "# print(\"Best Score:\", grid.best_score_)\n",
    "\n",
    "# y_pred = grid.predict(X_test)\n",
    "# print(classification_report(y_test, y_pred))"
   ]
  }
 ],
 "metadata": {
  "kernelspec": {
   "display_name": "menigitis-ai",
   "language": "python",
   "name": "python3"
  },
  "language_info": {
   "codemirror_mode": {
    "name": "ipython",
    "version": 3
   },
   "file_extension": ".py",
   "mimetype": "text/x-python",
   "name": "python",
   "nbconvert_exporter": "python",
   "pygments_lexer": "ipython3",
   "version": "3.12.1"
  }
 },
 "nbformat": 4,
 "nbformat_minor": 5
}
