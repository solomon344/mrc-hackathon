{
 "cells": [
  {
   "cell_type": "code",
   "execution_count": 239,
   "id": "4b507471",
   "metadata": {},
   "outputs": [],
   "source": [
    "import pandas as pd\n",
    "import matplotlib.pyplot as plt\n",
    "%matplotlib inline"
   ]
  },
  {
   "cell_type": "code",
   "execution_count": 240,
   "id": "abc01dcb",
   "metadata": {},
   "outputs": [
    {
     "data": {
      "text/html": [
       "<div>\n",
       "<style scoped>\n",
       "    .dataframe tbody tr th:only-of-type {\n",
       "        vertical-align: middle;\n",
       "    }\n",
       "\n",
       "    .dataframe tbody tr th {\n",
       "        vertical-align: top;\n",
       "    }\n",
       "\n",
       "    .dataframe thead th {\n",
       "        text-align: right;\n",
       "    }\n",
       "</style>\n",
       "<table border=\"1\" class=\"dataframe\">\n",
       "  <thead>\n",
       "    <tr style=\"text-align: right;\">\n",
       "      <th></th>\n",
       "      <th>record_id</th>\n",
       "      <th>redcap_repeat_instrument</th>\n",
       "      <th>redcap_repeat_instance</th>\n",
       "      <th>redcap_data_access_group</th>\n",
       "      <th>specimenidnumber</th>\n",
       "      <th>medicalwardid</th>\n",
       "      <th>medicalwardid_sysid</th>\n",
       "      <th>imported_med_rec_id</th>\n",
       "      <th>countrycode</th>\n",
       "      <th>sentinelsite</th>\n",
       "      <th>...</th>\n",
       "      <th>checkdate4</th>\n",
       "      <th>who_afro_site_laboratory_complete</th>\n",
       "      <th>latexagglutination</th>\n",
       "      <th>latexagglutinationres</th>\n",
       "      <th>binax_done</th>\n",
       "      <th>csf_binax_result</th>\n",
       "      <th>anyothertestperformed</th>\n",
       "      <th>othertestresult</th>\n",
       "      <th>sitelabfinalresult</th>\n",
       "      <th>target</th>\n",
       "    </tr>\n",
       "  </thead>\n",
       "  <tbody>\n",
       "    <tr>\n",
       "      <th>0</th>\n",
       "      <td>126759</td>\n",
       "      <td>NaN</td>\n",
       "      <td>NaN</td>\n",
       "      <td>tog_chu</td>\n",
       "      <td>000008L</td>\n",
       "      <td>TOG_CHU_2010_008P</td>\n",
       "      <td>TOG_CHU_2010_126759</td>\n",
       "      <td>TOG_CHU_2010_008P</td>\n",
       "      <td>TOG</td>\n",
       "      <td>CHU</td>\n",
       "      <td>...</td>\n",
       "      <td>NaN</td>\n",
       "      <td>2</td>\n",
       "      <td>2.0</td>\n",
       "      <td>NaN</td>\n",
       "      <td>NaN</td>\n",
       "      <td>NaN</td>\n",
       "      <td>NaN</td>\n",
       "      <td>NaN</td>\n",
       "      <td>NaN</td>\n",
       "      <td>1</td>\n",
       "    </tr>\n",
       "    <tr>\n",
       "      <th>1</th>\n",
       "      <td>126760</td>\n",
       "      <td>NaN</td>\n",
       "      <td>NaN</td>\n",
       "      <td>tog_chu</td>\n",
       "      <td>000009L</td>\n",
       "      <td>TOG_CHU_2010_009P</td>\n",
       "      <td>TOG_CHU_2010_126760</td>\n",
       "      <td>TOG_CHU_2010_009P</td>\n",
       "      <td>TOG</td>\n",
       "      <td>CHU</td>\n",
       "      <td>...</td>\n",
       "      <td>NaN</td>\n",
       "      <td>2</td>\n",
       "      <td>1.0</td>\n",
       "      <td>2.0</td>\n",
       "      <td>NaN</td>\n",
       "      <td>NaN</td>\n",
       "      <td>6.0</td>\n",
       "      <td>NaN</td>\n",
       "      <td>NaN</td>\n",
       "      <td>1</td>\n",
       "    </tr>\n",
       "    <tr>\n",
       "      <th>2</th>\n",
       "      <td>126763</td>\n",
       "      <td>NaN</td>\n",
       "      <td>NaN</td>\n",
       "      <td>tog_chu</td>\n",
       "      <td>000012L</td>\n",
       "      <td>TOG_CHU_2010_012P</td>\n",
       "      <td>TOG_CHU_2010_126763</td>\n",
       "      <td>TOG_CHU_2010_012P</td>\n",
       "      <td>TOG</td>\n",
       "      <td>CHU</td>\n",
       "      <td>...</td>\n",
       "      <td>NaN</td>\n",
       "      <td>2</td>\n",
       "      <td>2.0</td>\n",
       "      <td>NaN</td>\n",
       "      <td>NaN</td>\n",
       "      <td>NaN</td>\n",
       "      <td>NaN</td>\n",
       "      <td>NaN</td>\n",
       "      <td>NaN</td>\n",
       "      <td>1</td>\n",
       "    </tr>\n",
       "    <tr>\n",
       "      <th>3</th>\n",
       "      <td>126779</td>\n",
       "      <td>NaN</td>\n",
       "      <td>NaN</td>\n",
       "      <td>tog_chu</td>\n",
       "      <td>000028L</td>\n",
       "      <td>TOG_CHU_2010_O28P</td>\n",
       "      <td>TOG_CHU_2010_126779</td>\n",
       "      <td>TOG_CHU_2010_O28P</td>\n",
       "      <td>TOG</td>\n",
       "      <td>CHU</td>\n",
       "      <td>...</td>\n",
       "      <td>NaN</td>\n",
       "      <td>2</td>\n",
       "      <td>NaN</td>\n",
       "      <td>1.0</td>\n",
       "      <td>NaN</td>\n",
       "      <td>NaN</td>\n",
       "      <td>NaN</td>\n",
       "      <td>NaN</td>\n",
       "      <td>NaN</td>\n",
       "      <td>1</td>\n",
       "    </tr>\n",
       "    <tr>\n",
       "      <th>4</th>\n",
       "      <td>126788</td>\n",
       "      <td>NaN</td>\n",
       "      <td>NaN</td>\n",
       "      <td>tog_chu</td>\n",
       "      <td>000035L</td>\n",
       "      <td>TOG_CHU_2010_037P</td>\n",
       "      <td>TOG_CHU_2010_126788</td>\n",
       "      <td>TOG_CHU_2010_037P</td>\n",
       "      <td>TOG</td>\n",
       "      <td>CHU</td>\n",
       "      <td>...</td>\n",
       "      <td>NaN</td>\n",
       "      <td>2</td>\n",
       "      <td>2.0</td>\n",
       "      <td>NaN</td>\n",
       "      <td>NaN</td>\n",
       "      <td>NaN</td>\n",
       "      <td>NaN</td>\n",
       "      <td>NaN</td>\n",
       "      <td>NaN</td>\n",
       "      <td>1</td>\n",
       "    </tr>\n",
       "  </tbody>\n",
       "</table>\n",
       "<p>5 rows × 138 columns</p>\n",
       "</div>"
      ],
      "text/plain": [
       "   record_id  redcap_repeat_instrument  redcap_repeat_instance  \\\n",
       "0     126759                       NaN                     NaN   \n",
       "1     126760                       NaN                     NaN   \n",
       "2     126763                       NaN                     NaN   \n",
       "3     126779                       NaN                     NaN   \n",
       "4     126788                       NaN                     NaN   \n",
       "\n",
       "  redcap_data_access_group specimenidnumber      medicalwardid  \\\n",
       "0                  tog_chu          000008L  TOG_CHU_2010_008P   \n",
       "1                  tog_chu          000009L  TOG_CHU_2010_009P   \n",
       "2                  tog_chu          000012L  TOG_CHU_2010_012P   \n",
       "3                  tog_chu          000028L  TOG_CHU_2010_O28P   \n",
       "4                  tog_chu          000035L  TOG_CHU_2010_037P   \n",
       "\n",
       "   medicalwardid_sysid imported_med_rec_id countrycode sentinelsite  ...  \\\n",
       "0  TOG_CHU_2010_126759   TOG_CHU_2010_008P         TOG          CHU  ...   \n",
       "1  TOG_CHU_2010_126760   TOG_CHU_2010_009P         TOG          CHU  ...   \n",
       "2  TOG_CHU_2010_126763   TOG_CHU_2010_012P         TOG          CHU  ...   \n",
       "3  TOG_CHU_2010_126779   TOG_CHU_2010_O28P         TOG          CHU  ...   \n",
       "4  TOG_CHU_2010_126788   TOG_CHU_2010_037P         TOG          CHU  ...   \n",
       "\n",
       "  checkdate4  who_afro_site_laboratory_complete latexagglutination  \\\n",
       "0        NaN                                  2                2.0   \n",
       "1        NaN                                  2                1.0   \n",
       "2        NaN                                  2                2.0   \n",
       "3        NaN                                  2                NaN   \n",
       "4        NaN                                  2                2.0   \n",
       "\n",
       "  latexagglutinationres binax_done csf_binax_result  anyothertestperformed  \\\n",
       "0                   NaN        NaN              NaN                    NaN   \n",
       "1                   2.0        NaN              NaN                    6.0   \n",
       "2                   NaN        NaN              NaN                    NaN   \n",
       "3                   1.0        NaN              NaN                    NaN   \n",
       "4                   NaN        NaN              NaN                    NaN   \n",
       "\n",
       "   othertestresult sitelabfinalresult  target  \n",
       "0              NaN                NaN       1  \n",
       "1              NaN                NaN       1  \n",
       "2              NaN                NaN       1  \n",
       "3              NaN                NaN       1  \n",
       "4              NaN                NaN       1  \n",
       "\n",
       "[5 rows x 138 columns]"
      ]
     },
     "execution_count": 240,
     "metadata": {},
     "output_type": "execute_result"
    }
   ],
   "source": [
    "df = pd.read_csv('data/meningitis_data.csv')\n",
    "df.head()"
   ]
  },
  {
   "cell_type": "code",
   "execution_count": 241,
   "id": "60ddfc36",
   "metadata": {},
   "outputs": [
    {
     "data": {
      "text/html": [
       "<div>\n",
       "<style scoped>\n",
       "    .dataframe tbody tr th:only-of-type {\n",
       "        vertical-align: middle;\n",
       "    }\n",
       "\n",
       "    .dataframe tbody tr th {\n",
       "        vertical-align: top;\n",
       "    }\n",
       "\n",
       "    .dataframe thead th {\n",
       "        text-align: right;\n",
       "    }\n",
       "</style>\n",
       "<table border=\"1\" class=\"dataframe\">\n",
       "  <thead>\n",
       "    <tr style=\"text-align: right;\">\n",
       "      <th></th>\n",
       "      <th>age</th>\n",
       "      <th>sexofthepatient</th>\n",
       "      <th>whitecellcount</th>\n",
       "      <th>csfproteinresult</th>\n",
       "      <th>csfglucoseresult</th>\n",
       "      <th>csf_gram_resul</th>\n",
       "      <th>csfcultureresults</th>\n",
       "      <th>presenceofseizure</th>\n",
       "      <th>neckstiffness</th>\n",
       "      <th>historyoffever</th>\n",
       "      <th>alteredconsciousness</th>\n",
       "      <th>bulgingfontanel</th>\n",
       "      <th>mening_received</th>\n",
       "      <th>hibvaccine</th>\n",
       "      <th>pneumoduringcampaign</th>\n",
       "      <th>target</th>\n",
       "    </tr>\n",
       "  </thead>\n",
       "  <tbody>\n",
       "    <tr>\n",
       "      <th>0</th>\n",
       "      <td>NaN</td>\n",
       "      <td>F</td>\n",
       "      <td>1.0</td>\n",
       "      <td>NaN</td>\n",
       "      <td>NaN</td>\n",
       "      <td>1.0</td>\n",
       "      <td>1.0</td>\n",
       "      <td>2.0</td>\n",
       "      <td>2.0</td>\n",
       "      <td>2.0</td>\n",
       "      <td>2.0</td>\n",
       "      <td>2.0</td>\n",
       "      <td>NaN</td>\n",
       "      <td>2.0</td>\n",
       "      <td>NaN</td>\n",
       "      <td>1</td>\n",
       "    </tr>\n",
       "    <tr>\n",
       "      <th>1</th>\n",
       "      <td>NaN</td>\n",
       "      <td>F</td>\n",
       "      <td>3.0</td>\n",
       "      <td>NaN</td>\n",
       "      <td>NaN</td>\n",
       "      <td>1.0</td>\n",
       "      <td>2.0</td>\n",
       "      <td>2.0</td>\n",
       "      <td>2.0</td>\n",
       "      <td>2.0</td>\n",
       "      <td>2.0</td>\n",
       "      <td>2.0</td>\n",
       "      <td>NaN</td>\n",
       "      <td>2.0</td>\n",
       "      <td>NaN</td>\n",
       "      <td>1</td>\n",
       "    </tr>\n",
       "    <tr>\n",
       "      <th>2</th>\n",
       "      <td>NaN</td>\n",
       "      <td>F</td>\n",
       "      <td>1.0</td>\n",
       "      <td>NaN</td>\n",
       "      <td>NaN</td>\n",
       "      <td>1.0</td>\n",
       "      <td>5.0</td>\n",
       "      <td>2.0</td>\n",
       "      <td>2.0</td>\n",
       "      <td>2.0</td>\n",
       "      <td>2.0</td>\n",
       "      <td>2.0</td>\n",
       "      <td>NaN</td>\n",
       "      <td>2.0</td>\n",
       "      <td>NaN</td>\n",
       "      <td>1</td>\n",
       "    </tr>\n",
       "    <tr>\n",
       "      <th>3</th>\n",
       "      <td>NaN</td>\n",
       "      <td>M</td>\n",
       "      <td>3.0</td>\n",
       "      <td>NaN</td>\n",
       "      <td>NaN</td>\n",
       "      <td>1.0</td>\n",
       "      <td>1.0</td>\n",
       "      <td>2.0</td>\n",
       "      <td>2.0</td>\n",
       "      <td>2.0</td>\n",
       "      <td>2.0</td>\n",
       "      <td>2.0</td>\n",
       "      <td>NaN</td>\n",
       "      <td>2.0</td>\n",
       "      <td>NaN</td>\n",
       "      <td>1</td>\n",
       "    </tr>\n",
       "    <tr>\n",
       "      <th>4</th>\n",
       "      <td>NaN</td>\n",
       "      <td>M</td>\n",
       "      <td>1.0</td>\n",
       "      <td>NaN</td>\n",
       "      <td>NaN</td>\n",
       "      <td>1.0</td>\n",
       "      <td>1.0</td>\n",
       "      <td>2.0</td>\n",
       "      <td>2.0</td>\n",
       "      <td>2.0</td>\n",
       "      <td>2.0</td>\n",
       "      <td>2.0</td>\n",
       "      <td>NaN</td>\n",
       "      <td>1.0</td>\n",
       "      <td>NaN</td>\n",
       "      <td>1</td>\n",
       "    </tr>\n",
       "  </tbody>\n",
       "</table>\n",
       "</div>"
      ],
      "text/plain": [
       "   age sexofthepatient  whitecellcount  csfproteinresult  csfglucoseresult  \\\n",
       "0  NaN               F             1.0               NaN               NaN   \n",
       "1  NaN               F             3.0               NaN               NaN   \n",
       "2  NaN               F             1.0               NaN               NaN   \n",
       "3  NaN               M             3.0               NaN               NaN   \n",
       "4  NaN               M             1.0               NaN               NaN   \n",
       "\n",
       "   csf_gram_resul  csfcultureresults  presenceofseizure  neckstiffness  \\\n",
       "0             1.0                1.0                2.0            2.0   \n",
       "1             1.0                2.0                2.0            2.0   \n",
       "2             1.0                5.0                2.0            2.0   \n",
       "3             1.0                1.0                2.0            2.0   \n",
       "4             1.0                1.0                2.0            2.0   \n",
       "\n",
       "   historyoffever  alteredconsciousness  bulgingfontanel  mening_received  \\\n",
       "0             2.0                   2.0              2.0              NaN   \n",
       "1             2.0                   2.0              2.0              NaN   \n",
       "2             2.0                   2.0              2.0              NaN   \n",
       "3             2.0                   2.0              2.0              NaN   \n",
       "4             2.0                   2.0              2.0              NaN   \n",
       "\n",
       "   hibvaccine  pneumoduringcampaign  target  \n",
       "0         2.0                   NaN       1  \n",
       "1         2.0                   NaN       1  \n",
       "2         2.0                   NaN       1  \n",
       "3         2.0                   NaN       1  \n",
       "4         1.0                   NaN       1  "
      ]
     },
     "execution_count": 241,
     "metadata": {},
     "output_type": "execute_result"
    }
   ],
   "source": [
    "selected_columns = [\n",
    "    'age',                      # Patient age\n",
    "    'sexofthepatient',          # Gender\n",
    "    'whitecellcount',           # CSF WBC count\n",
    "    'csfproteinresult',         # CSF protein level\n",
    "    'csfglucoseresult',         # CSF glucose level\n",
    "    'csf_gram_resul',           # Gram stain result\n",
    "    'csfcultureresults',        # CSF culture result\n",
    "    'presenceofseizure',        # Seizure presence\n",
    "    'neckstiffness',            # Neck stiffness\n",
    "    'historyoffever',           # Fever history\n",
    "    'alteredconsciousness',     # Consciousness level\n",
    "    'bulgingfontanel',          # Fontanel bulging (infants)\n",
    "    'mening_received',          # Meningitis vaccine received\n",
    "    'hibvaccine',               # Hib vaccine received\n",
    "    'pneumoduringcampaign',     # Pneumococcal vaccine during campaign\n",
    "    'target'                    # Label: bacterial meningitis (1 = yes, 0 = no)\n",
    "]\n",
    "\n",
    "df = df[selected_columns]\n",
    "df.head()"
   ]
  },
  {
   "cell_type": "code",
   "execution_count": 242,
   "id": "8b709790",
   "metadata": {},
   "outputs": [
    {
     "data": {
      "text/plain": [
       "(2723, 16)"
      ]
     },
     "execution_count": 242,
     "metadata": {},
     "output_type": "execute_result"
    }
   ],
   "source": [
    "df.shape"
   ]
  },
  {
   "cell_type": "code",
   "execution_count": 243,
   "id": "c48f2165",
   "metadata": {},
   "outputs": [
    {
     "name": "stderr",
     "output_type": "stream",
     "text": [
      "C:\\Users\\willa\\AppData\\Local\\Temp\\ipykernel_19944\\1503503937.py:1: FutureWarning: A value is trying to be set on a copy of a DataFrame or Series through chained assignment using an inplace method.\n",
      "The behavior will change in pandas 3.0. This inplace method will never work because the intermediate object on which we are setting values always behaves as a copy.\n",
      "\n",
      "For example, when doing 'df[col].method(value, inplace=True)', try using 'df.method({col: value}, inplace=True)' or df[col] = df[col].method(value) instead, to perform the operation inplace on the original object.\n",
      "\n",
      "\n",
      "  df['age'].fillna(df['age'].mean(), inplace=True)\n"
     ]
    }
   ],
   "source": [
    "df['age'].fillna(df['age'].mean(), inplace=True)"
   ]
  },
  {
   "cell_type": "code",
   "execution_count": 244,
   "id": "020c50a3",
   "metadata": {},
   "outputs": [
    {
     "name": "stderr",
     "output_type": "stream",
     "text": [
      "C:\\Users\\willa\\AppData\\Local\\Temp\\ipykernel_19944\\3947805924.py:1: FutureWarning: A value is trying to be set on a copy of a DataFrame or Series through chained assignment using an inplace method.\n",
      "The behavior will change in pandas 3.0. This inplace method will never work because the intermediate object on which we are setting values always behaves as a copy.\n",
      "\n",
      "For example, when doing 'df[col].method(value, inplace=True)', try using 'df.method({col: value}, inplace=True)' or df[col] = df[col].method(value) instead, to perform the operation inplace on the original object.\n",
      "\n",
      "\n",
      "  df['sexofthepatient'].fillna('M', inplace=True)\n"
     ]
    }
   ],
   "source": [
    "df['sexofthepatient'].fillna('M', inplace=True)"
   ]
  },
  {
   "cell_type": "code",
   "execution_count": 245,
   "id": "49700984",
   "metadata": {},
   "outputs": [
    {
     "name": "stderr",
     "output_type": "stream",
     "text": [
      "C:\\Users\\willa\\AppData\\Local\\Temp\\ipykernel_19944\\3884973515.py:1: FutureWarning: A value is trying to be set on a copy of a DataFrame or Series through chained assignment using an inplace method.\n",
      "The behavior will change in pandas 3.0. This inplace method will never work because the intermediate object on which we are setting values always behaves as a copy.\n",
      "\n",
      "For example, when doing 'df[col].method(value, inplace=True)', try using 'df.method({col: value}, inplace=True)' or df[col] = df[col].method(value) instead, to perform the operation inplace on the original object.\n",
      "\n",
      "\n",
      "  df['whitecellcount'].fillna(df['whitecellcount'].mean(), inplace=True)\n"
     ]
    }
   ],
   "source": [
    "df['whitecellcount'].fillna(df['whitecellcount'].mean(), inplace=True)"
   ]
  },
  {
   "cell_type": "code",
   "execution_count": 246,
   "id": "43cacd85",
   "metadata": {},
   "outputs": [
    {
     "name": "stderr",
     "output_type": "stream",
     "text": [
      "C:\\Users\\willa\\AppData\\Local\\Temp\\ipykernel_19944\\377319724.py:1: FutureWarning: A value is trying to be set on a copy of a DataFrame or Series through chained assignment using an inplace method.\n",
      "The behavior will change in pandas 3.0. This inplace method will never work because the intermediate object on which we are setting values always behaves as a copy.\n",
      "\n",
      "For example, when doing 'df[col].method(value, inplace=True)', try using 'df.method({col: value}, inplace=True)' or df[col] = df[col].method(value) instead, to perform the operation inplace on the original object.\n",
      "\n",
      "\n",
      "  df['csfproteinresult'].fillna(df['csfproteinresult'].mean(), inplace=True)\n"
     ]
    }
   ],
   "source": [
    "df['csfproteinresult'].fillna(df['csfproteinresult'].mean(), inplace=True)"
   ]
  },
  {
   "cell_type": "code",
   "execution_count": 247,
   "id": "1f2b44d2",
   "metadata": {},
   "outputs": [
    {
     "name": "stderr",
     "output_type": "stream",
     "text": [
      "C:\\Users\\willa\\AppData\\Local\\Temp\\ipykernel_19944\\4093395083.py:1: FutureWarning: A value is trying to be set on a copy of a DataFrame or Series through chained assignment using an inplace method.\n",
      "The behavior will change in pandas 3.0. This inplace method will never work because the intermediate object on which we are setting values always behaves as a copy.\n",
      "\n",
      "For example, when doing 'df[col].method(value, inplace=True)', try using 'df.method({col: value}, inplace=True)' or df[col] = df[col].method(value) instead, to perform the operation inplace on the original object.\n",
      "\n",
      "\n",
      "  df['csfglucoseresult'].fillna(df['csfglucoseresult'].mean(), inplace=True)\n"
     ]
    }
   ],
   "source": [
    "df['csfglucoseresult'].fillna(df['csfglucoseresult'].mean(), inplace=True)"
   ]
  },
  {
   "cell_type": "code",
   "execution_count": 248,
   "id": "07277181",
   "metadata": {},
   "outputs": [
    {
     "name": "stderr",
     "output_type": "stream",
     "text": [
      "C:\\Users\\willa\\AppData\\Local\\Temp\\ipykernel_19944\\1602795085.py:1: FutureWarning: A value is trying to be set on a copy of a DataFrame or Series through chained assignment using an inplace method.\n",
      "The behavior will change in pandas 3.0. This inplace method will never work because the intermediate object on which we are setting values always behaves as a copy.\n",
      "\n",
      "For example, when doing 'df[col].method(value, inplace=True)', try using 'df.method({col: value}, inplace=True)' or df[col] = df[col].method(value) instead, to perform the operation inplace on the original object.\n",
      "\n",
      "\n",
      "  df['csf_gram_resul'].fillna(df['csf_gram_resul'].mode(), inplace=True)\n"
     ]
    }
   ],
   "source": [
    "df['csf_gram_resul'].fillna(df['csf_gram_resul'].mode(), inplace=True)"
   ]
  },
  {
   "cell_type": "code",
   "execution_count": 249,
   "id": "16548644",
   "metadata": {},
   "outputs": [
    {
     "data": {
      "text/html": [
       "<div>\n",
       "<style scoped>\n",
       "    .dataframe tbody tr th:only-of-type {\n",
       "        vertical-align: middle;\n",
       "    }\n",
       "\n",
       "    .dataframe tbody tr th {\n",
       "        vertical-align: top;\n",
       "    }\n",
       "\n",
       "    .dataframe thead th {\n",
       "        text-align: right;\n",
       "    }\n",
       "</style>\n",
       "<table border=\"1\" class=\"dataframe\">\n",
       "  <thead>\n",
       "    <tr style=\"text-align: right;\">\n",
       "      <th></th>\n",
       "      <th>age</th>\n",
       "      <th>sexofthepatient</th>\n",
       "      <th>whitecellcount</th>\n",
       "      <th>csfproteinresult</th>\n",
       "      <th>csfglucoseresult</th>\n",
       "      <th>csf_gram_resul</th>\n",
       "      <th>csfcultureresults</th>\n",
       "      <th>presenceofseizure</th>\n",
       "      <th>neckstiffness</th>\n",
       "      <th>historyoffever</th>\n",
       "      <th>alteredconsciousness</th>\n",
       "      <th>bulgingfontanel</th>\n",
       "      <th>mening_received</th>\n",
       "      <th>hibvaccine</th>\n",
       "      <th>pneumoduringcampaign</th>\n",
       "      <th>target</th>\n",
       "    </tr>\n",
       "  </thead>\n",
       "  <tbody>\n",
       "    <tr>\n",
       "      <th>0</th>\n",
       "      <td>1.075577</td>\n",
       "      <td>F</td>\n",
       "      <td>1.0</td>\n",
       "      <td>3.016958</td>\n",
       "      <td>3.053704</td>\n",
       "      <td>1.0</td>\n",
       "      <td>1.0</td>\n",
       "      <td>2.0</td>\n",
       "      <td>2.0</td>\n",
       "      <td>2.0</td>\n",
       "      <td>2.0</td>\n",
       "      <td>2.0</td>\n",
       "      <td>NaN</td>\n",
       "      <td>2.0</td>\n",
       "      <td>NaN</td>\n",
       "      <td>1</td>\n",
       "    </tr>\n",
       "    <tr>\n",
       "      <th>1</th>\n",
       "      <td>1.075577</td>\n",
       "      <td>F</td>\n",
       "      <td>3.0</td>\n",
       "      <td>3.016958</td>\n",
       "      <td>3.053704</td>\n",
       "      <td>1.0</td>\n",
       "      <td>2.0</td>\n",
       "      <td>2.0</td>\n",
       "      <td>2.0</td>\n",
       "      <td>2.0</td>\n",
       "      <td>2.0</td>\n",
       "      <td>2.0</td>\n",
       "      <td>NaN</td>\n",
       "      <td>2.0</td>\n",
       "      <td>NaN</td>\n",
       "      <td>1</td>\n",
       "    </tr>\n",
       "    <tr>\n",
       "      <th>2</th>\n",
       "      <td>1.075577</td>\n",
       "      <td>F</td>\n",
       "      <td>1.0</td>\n",
       "      <td>3.016958</td>\n",
       "      <td>3.053704</td>\n",
       "      <td>1.0</td>\n",
       "      <td>5.0</td>\n",
       "      <td>2.0</td>\n",
       "      <td>2.0</td>\n",
       "      <td>2.0</td>\n",
       "      <td>2.0</td>\n",
       "      <td>2.0</td>\n",
       "      <td>NaN</td>\n",
       "      <td>2.0</td>\n",
       "      <td>NaN</td>\n",
       "      <td>1</td>\n",
       "    </tr>\n",
       "    <tr>\n",
       "      <th>3</th>\n",
       "      <td>1.075577</td>\n",
       "      <td>M</td>\n",
       "      <td>3.0</td>\n",
       "      <td>3.016958</td>\n",
       "      <td>3.053704</td>\n",
       "      <td>1.0</td>\n",
       "      <td>1.0</td>\n",
       "      <td>2.0</td>\n",
       "      <td>2.0</td>\n",
       "      <td>2.0</td>\n",
       "      <td>2.0</td>\n",
       "      <td>2.0</td>\n",
       "      <td>NaN</td>\n",
       "      <td>2.0</td>\n",
       "      <td>NaN</td>\n",
       "      <td>1</td>\n",
       "    </tr>\n",
       "    <tr>\n",
       "      <th>4</th>\n",
       "      <td>1.075577</td>\n",
       "      <td>M</td>\n",
       "      <td>1.0</td>\n",
       "      <td>3.016958</td>\n",
       "      <td>3.053704</td>\n",
       "      <td>1.0</td>\n",
       "      <td>1.0</td>\n",
       "      <td>2.0</td>\n",
       "      <td>2.0</td>\n",
       "      <td>2.0</td>\n",
       "      <td>2.0</td>\n",
       "      <td>2.0</td>\n",
       "      <td>NaN</td>\n",
       "      <td>1.0</td>\n",
       "      <td>NaN</td>\n",
       "      <td>1</td>\n",
       "    </tr>\n",
       "  </tbody>\n",
       "</table>\n",
       "</div>"
      ],
      "text/plain": [
       "        age sexofthepatient  whitecellcount  csfproteinresult  \\\n",
       "0  1.075577               F             1.0          3.016958   \n",
       "1  1.075577               F             3.0          3.016958   \n",
       "2  1.075577               F             1.0          3.016958   \n",
       "3  1.075577               M             3.0          3.016958   \n",
       "4  1.075577               M             1.0          3.016958   \n",
       "\n",
       "   csfglucoseresult  csf_gram_resul  csfcultureresults  presenceofseizure  \\\n",
       "0          3.053704             1.0                1.0                2.0   \n",
       "1          3.053704             1.0                2.0                2.0   \n",
       "2          3.053704             1.0                5.0                2.0   \n",
       "3          3.053704             1.0                1.0                2.0   \n",
       "4          3.053704             1.0                1.0                2.0   \n",
       "\n",
       "   neckstiffness  historyoffever  alteredconsciousness  bulgingfontanel  \\\n",
       "0            2.0             2.0                   2.0              2.0   \n",
       "1            2.0             2.0                   2.0              2.0   \n",
       "2            2.0             2.0                   2.0              2.0   \n",
       "3            2.0             2.0                   2.0              2.0   \n",
       "4            2.0             2.0                   2.0              2.0   \n",
       "\n",
       "   mening_received  hibvaccine  pneumoduringcampaign  target  \n",
       "0              NaN         2.0                   NaN       1  \n",
       "1              NaN         2.0                   NaN       1  \n",
       "2              NaN         2.0                   NaN       1  \n",
       "3              NaN         2.0                   NaN       1  \n",
       "4              NaN         1.0                   NaN       1  "
      ]
     },
     "execution_count": 249,
     "metadata": {},
     "output_type": "execute_result"
    }
   ],
   "source": [
    "df.head()"
   ]
  },
  {
   "cell_type": "code",
   "execution_count": 250,
   "id": "aabe9243",
   "metadata": {},
   "outputs": [
    {
     "name": "stderr",
     "output_type": "stream",
     "text": [
      "C:\\Users\\willa\\AppData\\Local\\Temp\\ipykernel_19944\\2191990142.py:1: FutureWarning: A value is trying to be set on a copy of a DataFrame or Series through chained assignment using an inplace method.\n",
      "The behavior will change in pandas 3.0. This inplace method will never work because the intermediate object on which we are setting values always behaves as a copy.\n",
      "\n",
      "For example, when doing 'df[col].method(value, inplace=True)', try using 'df.method({col: value}, inplace=True)' or df[col] = df[col].method(value) instead, to perform the operation inplace on the original object.\n",
      "\n",
      "\n",
      "  df['csfcultureresults'].fillna(df['csfcultureresults'].mean(), inplace=True)\n"
     ]
    }
   ],
   "source": [
    "df['csfcultureresults'].fillna(df['csfcultureresults'].mean(), inplace=True)"
   ]
  },
  {
   "cell_type": "code",
   "execution_count": 251,
   "id": "fdce0c1a",
   "metadata": {},
   "outputs": [
    {
     "name": "stderr",
     "output_type": "stream",
     "text": [
      "C:\\Users\\willa\\AppData\\Local\\Temp\\ipykernel_19944\\3359267770.py:1: FutureWarning: A value is trying to be set on a copy of a DataFrame or Series through chained assignment using an inplace method.\n",
      "The behavior will change in pandas 3.0. This inplace method will never work because the intermediate object on which we are setting values always behaves as a copy.\n",
      "\n",
      "For example, when doing 'df[col].method(value, inplace=True)', try using 'df.method({col: value}, inplace=True)' or df[col] = df[col].method(value) instead, to perform the operation inplace on the original object.\n",
      "\n",
      "\n",
      "  df['presenceofseizure'].fillna(df['presenceofseizure'].mean(), inplace=True)\n"
     ]
    }
   ],
   "source": [
    "df['presenceofseizure'].fillna(df['presenceofseizure'].mean(), inplace=True)"
   ]
  },
  {
   "cell_type": "code",
   "execution_count": 252,
   "id": "9aaea4f4",
   "metadata": {},
   "outputs": [
    {
     "name": "stderr",
     "output_type": "stream",
     "text": [
      "C:\\Users\\willa\\AppData\\Local\\Temp\\ipykernel_19944\\1781034832.py:1: FutureWarning: A value is trying to be set on a copy of a DataFrame or Series through chained assignment using an inplace method.\n",
      "The behavior will change in pandas 3.0. This inplace method will never work because the intermediate object on which we are setting values always behaves as a copy.\n",
      "\n",
      "For example, when doing 'df[col].method(value, inplace=True)', try using 'df.method({col: value}, inplace=True)' or df[col] = df[col].method(value) instead, to perform the operation inplace on the original object.\n",
      "\n",
      "\n",
      "  df['neckstiffness'].fillna(df['neckstiffness'].mean(), inplace=True)\n"
     ]
    }
   ],
   "source": [
    "df['neckstiffness'].fillna(df['neckstiffness'].mean(), inplace=True)"
   ]
  },
  {
   "cell_type": "code",
   "execution_count": 253,
   "id": "3d47abc5",
   "metadata": {},
   "outputs": [
    {
     "name": "stderr",
     "output_type": "stream",
     "text": [
      "C:\\Users\\willa\\AppData\\Local\\Temp\\ipykernel_19944\\188665431.py:1: FutureWarning: A value is trying to be set on a copy of a DataFrame or Series through chained assignment using an inplace method.\n",
      "The behavior will change in pandas 3.0. This inplace method will never work because the intermediate object on which we are setting values always behaves as a copy.\n",
      "\n",
      "For example, when doing 'df[col].method(value, inplace=True)', try using 'df.method({col: value}, inplace=True)' or df[col] = df[col].method(value) instead, to perform the operation inplace on the original object.\n",
      "\n",
      "\n",
      "  df['historyoffever'].fillna(df['historyoffever'].mean(), inplace=True)\n"
     ]
    }
   ],
   "source": [
    "df['historyoffever'].fillna(df['historyoffever'].mean(), inplace=True)"
   ]
  },
  {
   "cell_type": "code",
   "execution_count": 254,
   "id": "4de6e76e",
   "metadata": {},
   "outputs": [
    {
     "name": "stderr",
     "output_type": "stream",
     "text": [
      "C:\\Users\\willa\\AppData\\Local\\Temp\\ipykernel_19944\\3630440958.py:1: FutureWarning: A value is trying to be set on a copy of a DataFrame or Series through chained assignment using an inplace method.\n",
      "The behavior will change in pandas 3.0. This inplace method will never work because the intermediate object on which we are setting values always behaves as a copy.\n",
      "\n",
      "For example, when doing 'df[col].method(value, inplace=True)', try using 'df.method({col: value}, inplace=True)' or df[col] = df[col].method(value) instead, to perform the operation inplace on the original object.\n",
      "\n",
      "\n",
      "  df['alteredconsciousness'].fillna(df['alteredconsciousness'].mean(), inplace=True)\n"
     ]
    }
   ],
   "source": [
    "df['alteredconsciousness'].fillna(df['alteredconsciousness'].mean(), inplace=True)"
   ]
  },
  {
   "cell_type": "code",
   "execution_count": 255,
   "id": "258f9ea0",
   "metadata": {},
   "outputs": [
    {
     "name": "stderr",
     "output_type": "stream",
     "text": [
      "C:\\Users\\willa\\AppData\\Local\\Temp\\ipykernel_19944\\401386544.py:1: FutureWarning: A value is trying to be set on a copy of a DataFrame or Series through chained assignment using an inplace method.\n",
      "The behavior will change in pandas 3.0. This inplace method will never work because the intermediate object on which we are setting values always behaves as a copy.\n",
      "\n",
      "For example, when doing 'df[col].method(value, inplace=True)', try using 'df.method({col: value}, inplace=True)' or df[col] = df[col].method(value) instead, to perform the operation inplace on the original object.\n",
      "\n",
      "\n",
      "  df['bulgingfontanel'].fillna(df['bulgingfontanel'].mean(), inplace=True)\n"
     ]
    }
   ],
   "source": [
    "df['bulgingfontanel'].fillna(df['bulgingfontanel'].mean(), inplace=True)"
   ]
  },
  {
   "cell_type": "code",
   "execution_count": 256,
   "id": "92a4097c",
   "metadata": {},
   "outputs": [
    {
     "name": "stderr",
     "output_type": "stream",
     "text": [
      "C:\\Users\\willa\\AppData\\Local\\Temp\\ipykernel_19944\\629536444.py:1: FutureWarning: A value is trying to be set on a copy of a DataFrame or Series through chained assignment using an inplace method.\n",
      "The behavior will change in pandas 3.0. This inplace method will never work because the intermediate object on which we are setting values always behaves as a copy.\n",
      "\n",
      "For example, when doing 'df[col].method(value, inplace=True)', try using 'df.method({col: value}, inplace=True)' or df[col] = df[col].method(value) instead, to perform the operation inplace on the original object.\n",
      "\n",
      "\n",
      "  df['mening_received'].fillna(df['mening_received'].mean(), inplace=True)\n"
     ]
    }
   ],
   "source": [
    "df['mening_received'].fillna(df['mening_received'].mean(), inplace=True)"
   ]
  },
  {
   "cell_type": "code",
   "execution_count": 257,
   "id": "4f72e1f5",
   "metadata": {},
   "outputs": [
    {
     "data": {
      "text/html": [
       "<div>\n",
       "<style scoped>\n",
       "    .dataframe tbody tr th:only-of-type {\n",
       "        vertical-align: middle;\n",
       "    }\n",
       "\n",
       "    .dataframe tbody tr th {\n",
       "        vertical-align: top;\n",
       "    }\n",
       "\n",
       "    .dataframe thead th {\n",
       "        text-align: right;\n",
       "    }\n",
       "</style>\n",
       "<table border=\"1\" class=\"dataframe\">\n",
       "  <thead>\n",
       "    <tr style=\"text-align: right;\">\n",
       "      <th></th>\n",
       "      <th>age</th>\n",
       "      <th>sexofthepatient</th>\n",
       "      <th>whitecellcount</th>\n",
       "      <th>csfproteinresult</th>\n",
       "      <th>csfglucoseresult</th>\n",
       "      <th>csf_gram_resul</th>\n",
       "      <th>csfcultureresults</th>\n",
       "      <th>presenceofseizure</th>\n",
       "      <th>neckstiffness</th>\n",
       "      <th>historyoffever</th>\n",
       "      <th>alteredconsciousness</th>\n",
       "      <th>bulgingfontanel</th>\n",
       "      <th>mening_received</th>\n",
       "      <th>hibvaccine</th>\n",
       "      <th>pneumoduringcampaign</th>\n",
       "      <th>target</th>\n",
       "    </tr>\n",
       "  </thead>\n",
       "  <tbody>\n",
       "    <tr>\n",
       "      <th>0</th>\n",
       "      <td>1.075577</td>\n",
       "      <td>F</td>\n",
       "      <td>1.0</td>\n",
       "      <td>3.016958</td>\n",
       "      <td>3.053704</td>\n",
       "      <td>1.0</td>\n",
       "      <td>1.0</td>\n",
       "      <td>2.0</td>\n",
       "      <td>2.0</td>\n",
       "      <td>2.0</td>\n",
       "      <td>2.0</td>\n",
       "      <td>2.0</td>\n",
       "      <td>4.450212</td>\n",
       "      <td>2.0</td>\n",
       "      <td>NaN</td>\n",
       "      <td>1</td>\n",
       "    </tr>\n",
       "    <tr>\n",
       "      <th>1</th>\n",
       "      <td>1.075577</td>\n",
       "      <td>F</td>\n",
       "      <td>3.0</td>\n",
       "      <td>3.016958</td>\n",
       "      <td>3.053704</td>\n",
       "      <td>1.0</td>\n",
       "      <td>2.0</td>\n",
       "      <td>2.0</td>\n",
       "      <td>2.0</td>\n",
       "      <td>2.0</td>\n",
       "      <td>2.0</td>\n",
       "      <td>2.0</td>\n",
       "      <td>4.450212</td>\n",
       "      <td>2.0</td>\n",
       "      <td>NaN</td>\n",
       "      <td>1</td>\n",
       "    </tr>\n",
       "    <tr>\n",
       "      <th>2</th>\n",
       "      <td>1.075577</td>\n",
       "      <td>F</td>\n",
       "      <td>1.0</td>\n",
       "      <td>3.016958</td>\n",
       "      <td>3.053704</td>\n",
       "      <td>1.0</td>\n",
       "      <td>5.0</td>\n",
       "      <td>2.0</td>\n",
       "      <td>2.0</td>\n",
       "      <td>2.0</td>\n",
       "      <td>2.0</td>\n",
       "      <td>2.0</td>\n",
       "      <td>4.450212</td>\n",
       "      <td>2.0</td>\n",
       "      <td>NaN</td>\n",
       "      <td>1</td>\n",
       "    </tr>\n",
       "    <tr>\n",
       "      <th>3</th>\n",
       "      <td>1.075577</td>\n",
       "      <td>M</td>\n",
       "      <td>3.0</td>\n",
       "      <td>3.016958</td>\n",
       "      <td>3.053704</td>\n",
       "      <td>1.0</td>\n",
       "      <td>1.0</td>\n",
       "      <td>2.0</td>\n",
       "      <td>2.0</td>\n",
       "      <td>2.0</td>\n",
       "      <td>2.0</td>\n",
       "      <td>2.0</td>\n",
       "      <td>4.450212</td>\n",
       "      <td>2.0</td>\n",
       "      <td>NaN</td>\n",
       "      <td>1</td>\n",
       "    </tr>\n",
       "    <tr>\n",
       "      <th>4</th>\n",
       "      <td>1.075577</td>\n",
       "      <td>M</td>\n",
       "      <td>1.0</td>\n",
       "      <td>3.016958</td>\n",
       "      <td>3.053704</td>\n",
       "      <td>1.0</td>\n",
       "      <td>1.0</td>\n",
       "      <td>2.0</td>\n",
       "      <td>2.0</td>\n",
       "      <td>2.0</td>\n",
       "      <td>2.0</td>\n",
       "      <td>2.0</td>\n",
       "      <td>4.450212</td>\n",
       "      <td>1.0</td>\n",
       "      <td>NaN</td>\n",
       "      <td>1</td>\n",
       "    </tr>\n",
       "  </tbody>\n",
       "</table>\n",
       "</div>"
      ],
      "text/plain": [
       "        age sexofthepatient  whitecellcount  csfproteinresult  \\\n",
       "0  1.075577               F             1.0          3.016958   \n",
       "1  1.075577               F             3.0          3.016958   \n",
       "2  1.075577               F             1.0          3.016958   \n",
       "3  1.075577               M             3.0          3.016958   \n",
       "4  1.075577               M             1.0          3.016958   \n",
       "\n",
       "   csfglucoseresult  csf_gram_resul  csfcultureresults  presenceofseizure  \\\n",
       "0          3.053704             1.0                1.0                2.0   \n",
       "1          3.053704             1.0                2.0                2.0   \n",
       "2          3.053704             1.0                5.0                2.0   \n",
       "3          3.053704             1.0                1.0                2.0   \n",
       "4          3.053704             1.0                1.0                2.0   \n",
       "\n",
       "   neckstiffness  historyoffever  alteredconsciousness  bulgingfontanel  \\\n",
       "0            2.0             2.0                   2.0              2.0   \n",
       "1            2.0             2.0                   2.0              2.0   \n",
       "2            2.0             2.0                   2.0              2.0   \n",
       "3            2.0             2.0                   2.0              2.0   \n",
       "4            2.0             2.0                   2.0              2.0   \n",
       "\n",
       "   mening_received  hibvaccine  pneumoduringcampaign  target  \n",
       "0         4.450212         2.0                   NaN       1  \n",
       "1         4.450212         2.0                   NaN       1  \n",
       "2         4.450212         2.0                   NaN       1  \n",
       "3         4.450212         2.0                   NaN       1  \n",
       "4         4.450212         1.0                   NaN       1  "
      ]
     },
     "execution_count": 257,
     "metadata": {},
     "output_type": "execute_result"
    }
   ],
   "source": [
    "df.head()"
   ]
  },
  {
   "cell_type": "code",
   "execution_count": 258,
   "id": "bb83f35e",
   "metadata": {},
   "outputs": [
    {
     "name": "stderr",
     "output_type": "stream",
     "text": [
      "C:\\Users\\willa\\AppData\\Local\\Temp\\ipykernel_19944\\476977606.py:1: FutureWarning: A value is trying to be set on a copy of a DataFrame or Series through chained assignment using an inplace method.\n",
      "The behavior will change in pandas 3.0. This inplace method will never work because the intermediate object on which we are setting values always behaves as a copy.\n",
      "\n",
      "For example, when doing 'df[col].method(value, inplace=True)', try using 'df.method({col: value}, inplace=True)' or df[col] = df[col].method(value) instead, to perform the operation inplace on the original object.\n",
      "\n",
      "\n",
      "  df['hibvaccine'].fillna(df['hibvaccine'].mean(), inplace=True)\n"
     ]
    }
   ],
   "source": [
    "df['hibvaccine'].fillna(df['hibvaccine'].mean(), inplace=True)"
   ]
  },
  {
   "cell_type": "code",
   "execution_count": 259,
   "id": "a499062e",
   "metadata": {},
   "outputs": [
    {
     "name": "stderr",
     "output_type": "stream",
     "text": [
      "C:\\Users\\willa\\AppData\\Local\\Temp\\ipykernel_19944\\271376593.py:1: FutureWarning: A value is trying to be set on a copy of a DataFrame or Series through chained assignment using an inplace method.\n",
      "The behavior will change in pandas 3.0. This inplace method will never work because the intermediate object on which we are setting values always behaves as a copy.\n",
      "\n",
      "For example, when doing 'df[col].method(value, inplace=True)', try using 'df.method({col: value}, inplace=True)' or df[col] = df[col].method(value) instead, to perform the operation inplace on the original object.\n",
      "\n",
      "\n",
      "  df['pneumoduringcampaign'].fillna(df['pneumoduringcampaign'].mean(), inplace=True)\n"
     ]
    }
   ],
   "source": [
    "df['pneumoduringcampaign'].fillna(df['pneumoduringcampaign'].mean(), inplace=True)"
   ]
  },
  {
   "cell_type": "code",
   "execution_count": 260,
   "id": "32611097",
   "metadata": {},
   "outputs": [],
   "source": [
    "df['sexofthepatient'] = df['sexofthepatient'].map({'F': 0, 'M': 1})"
   ]
  },
  {
   "cell_type": "code",
   "execution_count": 261,
   "id": "33c0edab",
   "metadata": {},
   "outputs": [
    {
     "data": {
      "text/plain": [
       "np.int64(0)"
      ]
     },
     "execution_count": 261,
     "metadata": {},
     "output_type": "execute_result"
    }
   ],
   "source": [
    "df['target'].isna().sum()"
   ]
  },
  {
   "cell_type": "code",
   "execution_count": 262,
   "id": "f9941e80",
   "metadata": {},
   "outputs": [],
   "source": [
    "from sklearn.model_selection import train_test_split"
   ]
  },
  {
   "cell_type": "code",
   "execution_count": 263,
   "id": "5ca5cf88",
   "metadata": {},
   "outputs": [],
   "source": [
    "X = df.drop(columns=['target'])\n",
    "y = df['target']  "
   ]
  },
  {
   "cell_type": "code",
   "execution_count": 264,
   "id": "fc34a5a3",
   "metadata": {},
   "outputs": [],
   "source": [
    "X_train, X_test, y_train, y_test = train_test_split(X, y, test_size=0.2, random_state=42)\n"
   ]
  },
  {
   "cell_type": "code",
   "execution_count": null,
   "id": "b9b0b2d1",
   "metadata": {},
   "outputs": [
    {
     "ename": "NameError",
     "evalue": "name 'class_weight' is not defined",
     "output_type": "error",
     "traceback": [
      "\u001b[31m---------------------------------------------------------------------------\u001b[39m",
      "\u001b[31mNameError\u001b[39m                                 Traceback (most recent call last)",
      "\u001b[36mCell\u001b[39m\u001b[36m \u001b[39m\u001b[32mIn[265]\u001b[39m\u001b[32m, line 3\u001b[39m\n\u001b[32m      1\u001b[39m \u001b[38;5;28;01mfrom\u001b[39;00m\u001b[38;5;250m \u001b[39m\u001b[34;01msklearn\u001b[39;00m\u001b[34;01m.\u001b[39;00m\u001b[34;01mensemble\u001b[39;00m\u001b[38;5;250m \u001b[39m\u001b[38;5;28;01mimport\u001b[39;00m RandomForestClassifier\n\u001b[32m----> \u001b[39m\u001b[32m3\u001b[39m model = RandomForestClassifier(\u001b[43mclass_weight\u001b[49m==\u001b[33m'\u001b[39m\u001b[33m'\u001b[39m)\n\u001b[32m      4\u001b[39m model.fit(X_train, y_train)\n",
      "\u001b[31mNameError\u001b[39m: name 'class_weight' is not defined"
     ]
    }
   ],
   "source": [
    "from sklearn.ensemble import RandomForestClassifier\n",
    "\n",
    "model = RandomForestClassifier(class_weight='balanced')\n",
    "model.fit(X_train, y_train)\n"
   ]
  },
  {
   "cell_type": "code",
   "execution_count": null,
   "id": "367737c1",
   "metadata": {},
   "outputs": [],
   "source": [
    "from sklearn.metrics import classification_report\n",
    "y_pred = model.predict(X_test)\n",
    "print(classification_report(y_test, y_pred))"
   ]
  },
  {
   "cell_type": "code",
   "execution_count": null,
   "id": "e2bb6d46",
   "metadata": {},
   "outputs": [],
   "source": [
    "feature_importance = pd.Series(model.feature_importances_, index=X.columns)\n",
    "feature_importance.nlargest(10).plot(kind='barh')\n",
    "plt.title(\"Top 10 Feature Importances\")\n",
    "plt.show()\n"
   ]
  },
  {
   "cell_type": "code",
   "execution_count": null,
   "id": "cf339ced",
   "metadata": {},
   "outputs": [],
   "source": [
    "# import joblib\n",
    "# joblib.dump(model, 'meningitis_model.pkl')"
   ]
  },
  {
   "cell_type": "code",
   "execution_count": null,
   "id": "c72eb9f1",
   "metadata": {},
   "outputs": [],
   "source": [
    "# df.to_csv('meningitis_data_cleaned.csv', index=False)\n",
    "# from sklearn.model_selection import GridSearchCV\n",
    "\n",
    "# param_grid = {\n",
    "#     'n_estimators': [100, 200],\n",
    "#     'max_depth': [None, 10, 20],\n",
    "#     'min_samples_split': [2, 5],\n",
    "#     'min_samples_leaf': [1, 2],\n",
    "#     'class_weight': ['balanced']\n",
    "# }\n",
    "\n",
    "# grid = GridSearchCV(RandomForestClassifier(), param_grid, cv=5, n_jobs=-1)\n",
    "# grid.fit(X_train, y_train)\n",
    "\n",
    "# print(\"Best Parameters:\", grid.best_params_)\n",
    "# print(\"Best Score:\", grid.best_score_)\n",
    "\n",
    "# y_pred = grid.predict(X_test)\n",
    "# print(classification_report(y_test, y_pred))"
   ]
  }
 ],
 "metadata": {
  "kernelspec": {
   "display_name": "menigitis-ai",
   "language": "python",
   "name": "python3"
  },
  "language_info": {
   "codemirror_mode": {
    "name": "ipython",
    "version": 3
   },
   "file_extension": ".py",
   "mimetype": "text/x-python",
   "name": "python",
   "nbconvert_exporter": "python",
   "pygments_lexer": "ipython3",
   "version": "3.12.1"
  }
 },
 "nbformat": 4,
 "nbformat_minor": 5
}
